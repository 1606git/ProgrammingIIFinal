{
 "cells": [
  {
   "cell_type": "markdown",
   "metadata": {},
   "source": [
    "# Final Project- OPAN 6607 Programming II Data Infrastructure Fall 2024 \n",
    "## Katrina Marbley\n",
    "### December 13, 2024"
   ]
  },
  {
   "cell_type": "markdown",
   "metadata": {},
   "source": [
    "***"
   ]
  },
  {
   "cell_type": "markdown",
   "metadata": {},
   "source": [
    "### Build a classification model to predict LinkedIn Users and deploy the model on Streamlit"
   ]
  },
  {
   "cell_type": "markdown",
   "metadata": {},
   "source": [
    "#### Import packages:"
   ]
  },
  {
   "cell_type": "code",
   "execution_count": null,
   "metadata": {},
   "outputs": [],
   "source": [
    "##Load all packages\n",
    "\n",
    "import numpy as np\n",
    "import matplotlib.pyplot as plt\n",
    "import pickle\n",
    "import plotly.express as px\n",
    "import matplotlib.pyplot as plt\n",
    "\n",
    "#Packages to deploy app for Part 2\n",
    "import streamlit as st\n",
    "\n",
    "\n"
   ]
  },
  {
   "cell_type": "markdown",
   "metadata": {},
   "source": [
    "### Ingest Data:"
   ]
  },
  {
   "cell_type": "markdown",
   "metadata": {},
   "source": [
    "#### Question 1: Read in the data, call the dataframe \"s\" and check the dimensions of the dataframe"
   ]
  },
  {
   "cell_type": "code",
   "execution_count": 162,
   "metadata": {},
   "outputs": [],
   "source": [
    "# Data Source: social media usage\n",
    "s = pd.read_csv(\"social_media_usage.csv\")"
   ]
  },
  {
   "cell_type": "code",
   "execution_count": 163,
   "metadata": {},
   "outputs": [
    {
     "data": {
      "text/plain": [
       "(1502, 89)"
      ]
     },
     "execution_count": 163,
     "metadata": {},
     "output_type": "execute_result"
    }
   ],
   "source": [
    "s.shape #How many rows and columns does the dataset contain?"
   ]
  },
  {
   "cell_type": "markdown",
   "metadata": {},
   "source": [
    "***"
   ]
  },
  {
   "cell_type": "markdown",
   "metadata": {},
   "source": [
    "### Examine & Clean Dataset:"
   ]
  },
  {
   "cell_type": "markdown",
   "metadata": {},
   "source": [
    "#### Check data type of feature columns"
   ]
  },
  {
   "cell_type": "code",
   "execution_count": 167,
   "metadata": {},
   "outputs": [
    {
     "name": "stdout",
     "output_type": "stream",
     "text": [
      "int64\n",
      "int64\n",
      "int64\n",
      "int64\n",
      "int64\n",
      "int64\n",
      "int64\n",
      "int64\n"
     ]
    }
   ],
   "source": [
    "print(s['income'].dtype)\n",
    "print(s['educ2'].dtype)\n",
    "print(s['age'].dtype)\n",
    "print(s['par'].dtype)\n",
    "print(s['marital'].dtype)\n",
    "print(s['web1h'].dtype)\n",
    "print(s['gender'].dtype)\n",
    "print(s['sex'].dtype)"
   ]
  },
  {
   "cell_type": "markdown",
   "metadata": {},
   "source": [
    "#### Check the total number of missing values in each column"
   ]
  },
  {
   "cell_type": "code",
   "execution_count": 169,
   "metadata": {},
   "outputs": [
    {
     "data": {
      "text/plain": [
       "respid        0\n",
       "sample        0\n",
       "comp          0\n",
       "int_date      0\n",
       "lang          0\n",
       "             ..\n",
       "ql1           0\n",
       "ql1a          0\n",
       "qc1           0\n",
       "weight        0\n",
       "cellweight    0\n",
       "Length: 89, dtype: int64"
      ]
     },
     "execution_count": 169,
     "metadata": {},
     "output_type": "execute_result"
    }
   ],
   "source": [
    "s.isnull().sum()"
   ]
  },
  {
   "cell_type": "markdown",
   "metadata": {},
   "source": [
    "#### Subset the dataset to keep only features specified for project"
   ]
  },
  {
   "cell_type": "code",
   "execution_count": 171,
   "metadata": {},
   "outputs": [
    {
     "data": {
      "text/html": [
       "<div>\n",
       "<style scoped>\n",
       "    .dataframe tbody tr th:only-of-type {\n",
       "        vertical-align: middle;\n",
       "    }\n",
       "\n",
       "    .dataframe tbody tr th {\n",
       "        vertical-align: top;\n",
       "    }\n",
       "\n",
       "    .dataframe thead th {\n",
       "        text-align: right;\n",
       "    }\n",
       "</style>\n",
       "<table border=\"1\" class=\"dataframe\">\n",
       "  <thead>\n",
       "    <tr style=\"text-align: right;\">\n",
       "      <th></th>\n",
       "      <th>income</th>\n",
       "      <th>education</th>\n",
       "      <th>age</th>\n",
       "      <th>parent</th>\n",
       "      <th>married</th>\n",
       "      <th>web1h</th>\n",
       "      <th>gender</th>\n",
       "    </tr>\n",
       "  </thead>\n",
       "  <tbody>\n",
       "    <tr>\n",
       "      <th>0</th>\n",
       "      <td>6</td>\n",
       "      <td>4</td>\n",
       "      <td>77</td>\n",
       "      <td>2</td>\n",
       "      <td>5</td>\n",
       "      <td>2</td>\n",
       "      <td>2</td>\n",
       "    </tr>\n",
       "    <tr>\n",
       "      <th>1</th>\n",
       "      <td>5</td>\n",
       "      <td>3</td>\n",
       "      <td>59</td>\n",
       "      <td>2</td>\n",
       "      <td>6</td>\n",
       "      <td>2</td>\n",
       "      <td>1</td>\n",
       "    </tr>\n",
       "    <tr>\n",
       "      <th>2</th>\n",
       "      <td>8</td>\n",
       "      <td>4</td>\n",
       "      <td>60</td>\n",
       "      <td>2</td>\n",
       "      <td>1</td>\n",
       "      <td>2</td>\n",
       "      <td>2</td>\n",
       "    </tr>\n",
       "    <tr>\n",
       "      <th>3</th>\n",
       "      <td>8</td>\n",
       "      <td>8</td>\n",
       "      <td>73</td>\n",
       "      <td>2</td>\n",
       "      <td>6</td>\n",
       "      <td>2</td>\n",
       "      <td>1</td>\n",
       "    </tr>\n",
       "    <tr>\n",
       "      <th>4</th>\n",
       "      <td>7</td>\n",
       "      <td>8</td>\n",
       "      <td>65</td>\n",
       "      <td>2</td>\n",
       "      <td>1</td>\n",
       "      <td>1</td>\n",
       "      <td>2</td>\n",
       "    </tr>\n",
       "  </tbody>\n",
       "</table>\n",
       "</div>"
      ],
      "text/plain": [
       "   income  education  age  parent  married  web1h  gender\n",
       "0       6          4   77       2        5      2       2\n",
       "1       5          3   59       2        6      2       1\n",
       "2       8          4   60       2        1      2       2\n",
       "3       8          8   73       2        6      2       1\n",
       "4       7          8   65       2        1      1       2"
      ]
     },
     "execution_count": 171,
     "metadata": {},
     "output_type": "execute_result"
    }
   ],
   "source": [
    "# Specify relevant columns to keep\n",
    "subset_df = s[['income', 'educ2', 'age', 'par', 'marital', 'web1h', 'gender']].copy()\n",
    "\n",
    "#rename columns \n",
    "\n",
    "subset_df.rename(columns={\n",
    "        'educ2': 'education',\n",
    "        'par': 'parent',\n",
    "        'marital': 'married'\n",
    "            }, inplace=True)\n",
    "\n",
    "subset_df.head()\n",
    "\n"
   ]
  },
  {
   "cell_type": "code",
   "execution_count": 172,
   "metadata": {},
   "outputs": [
    {
     "data": {
      "text/plain": [
       "(1502, 7)"
      ]
     },
     "execution_count": 172,
     "metadata": {},
     "output_type": "execute_result"
    }
   ],
   "source": [
    "subset_df.shape  #dataset columns reduced from 89 to 7"
   ]
  },
  {
   "cell_type": "markdown",
   "metadata": {},
   "source": [
    "***"
   ]
  },
  {
   "cell_type": "markdown",
   "metadata": {},
   "source": [
    "### Feature Engineering:"
   ]
  },
  {
   "cell_type": "markdown",
   "metadata": {},
   "source": [
    "#### Question 2: Define a function called clean_sm that takes one input, x, and uses `np.where` to check whether x is equal to 1"
   ]
  },
  {
   "cell_type": "markdown",
   "metadata": {},
   "source": [
    "+ If it is, make the value of x = 1, otherwise make it 0. Return x\n",
    "+ Create a toy dataframe with three rows and two columns and test your function to make sure it works as expected"
   ]
  },
  {
   "cell_type": "code",
   "execution_count": 177,
   "metadata": {},
   "outputs": [],
   "source": [
    "#define a function\n",
    "def clean_sm(x): \n",
    "    return np.where(x == 1, 1, 0)\n"
   ]
  },
  {
   "cell_type": "code",
   "execution_count": 178,
   "metadata": {},
   "outputs": [
    {
     "name": "stdout",
     "output_type": "stream",
     "text": [
      "   feature1  feature2\n",
      "0         1         0\n",
      "1         2         1\n",
      "2         1         3\n"
     ]
    }
   ],
   "source": [
    "#Create toy DataFrame to test clean_sm function\n",
    "data = {'feature1': [1, 2, 1], 'feature2': [0, 1, 3]}\n",
    "toy_df = pd.DataFrame(data)\n",
    "\n",
    "print(toy_df) #view\n"
   ]
  },
  {
   "cell_type": "code",
   "execution_count": 179,
   "metadata": {},
   "outputs": [
    {
     "name": "stdout",
     "output_type": "stream",
     "text": [
      "   feature1  feature2\n",
      "0         1         0\n",
      "1         0         1\n",
      "2         1         0\n"
     ]
    }
   ],
   "source": [
    "#apply clean_sm function to toy_df\n",
    "\n",
    "cleaned_toy_df = toy_df.map(clean_sm)\n",
    "\n",
    "print(cleaned_toy_df) \n"
   ]
  },
  {
   "cell_type": "markdown",
   "metadata": {},
   "source": [
    "***"
   ]
  },
  {
   "cell_type": "markdown",
   "metadata": {},
   "source": [
    "#### Question 3: Create a new dataframe called \"ss\"\n",
    "\n"
   ]
  },
  {
   "cell_type": "markdown",
   "metadata": {},
   "source": [
    ">The new dataframe should contain a target column called sm_li which should be a binary variable ( that takes the value of 1 if it is 1 and 0 otherwise (use clean_sm to create this) which indicates whether or not the individual uses LinkedIn, and the following features: \n",
    ">1. income (ordered numeric from 1 to 9, above 9 considered missing), \n",
    ">2. education (ordered numeric from 1 to 8, above 8 considered missing), \n",
    ">3. parent (binary), \n",
    ">4. married (binary),\n",
    ">5. female (binary), and \n",
    ">6. age (numeric, above 98 considered missing). "
   ]
  },
  {
   "cell_type": "code",
   "execution_count": 183,
   "metadata": {},
   "outputs": [],
   "source": [
    "#create dataframe ss and add binary target column\n",
    "ss = pd.DataFrame(subset_df).copy()\n",
    "\n",
    "ss['sm_li'] = clean_sm(ss['web1h']).copy() #new column\n",
    "ss.drop('web1h', axis=1,inplace=True)\n",
    "\n"
   ]
  },
  {
   "cell_type": "code",
   "execution_count": 184,
   "metadata": {},
   "outputs": [
    {
     "name": "stdout",
     "output_type": "stream",
     "text": [
      "      income  education   age  parent  married  gender  sm_li\n",
      "0        6.0        4.0  77.0       0        0       1      0\n",
      "1        5.0        3.0  59.0       0        0       0      0\n",
      "2        8.0        4.0  60.0       0        1       1      0\n",
      "3        8.0        8.0  73.0       0        0       0      0\n",
      "4        7.0        8.0  65.0       0        1       1      1\n",
      "...      ...        ...   ...     ...      ...     ...    ...\n",
      "1497     6.0        4.0  41.0       1        1       0      0\n",
      "1498     2.0        5.0  46.0       0        0       0      1\n",
      "1499     7.0        3.0  18.0       0        0       0      0\n",
      "1500     4.0        3.0  23.0       0        0       1      0\n",
      "1501     4.0        3.0  50.0       1        1       0      0\n",
      "\n",
      "[1502 rows x 7 columns]\n"
     ]
    }
   ],
   "source": [
    "# Process features as valid values , others set to NaN and others as binary\n",
    "ss['income'] = ss['income'].apply(lambda x: x if 1 <= x <= 9 else np.nan)\n",
    "\n",
    "ss['education'] = ss['education'].apply(lambda x: x if 1 <= x <= 8 else np.nan)\n",
    "\n",
    "ss['parent'] = ss['parent'].apply(lambda x: 1 if x == 1 else (0))\n",
    "\n",
    "ss['married'] = ss['married'].apply(lambda x: 1 if x == 1 else (0))\n",
    "\n",
    "ss['gender'] = ss['gender'].apply(lambda x: 1 if x == 2 else (0))\n",
    "\n",
    "ss['age'] = ss['age'].apply(lambda x: x if x <= 98 else np.nan)\n",
    "\n",
    "print(ss) # Display the cleaned DataFrame\n",
    "\n"
   ]
  },
  {
   "cell_type": "code",
   "execution_count": 185,
   "metadata": {},
   "outputs": [
    {
     "data": {
      "text/plain": [
       "income       229\n",
       "education     23\n",
       "age           54\n",
       "parent         0\n",
       "married        0\n",
       "gender         0\n",
       "sm_li          0\n",
       "dtype: int64"
      ]
     },
     "execution_count": 185,
     "metadata": {},
     "output_type": "execute_result"
    }
   ],
   "source": [
    "ss.isnull().sum() #check for sum of missing values"
   ]
  },
  {
   "cell_type": "markdown",
   "metadata": {},
   "source": [
    "#### Drop any missing values in \"ss\""
   ]
  },
  {
   "cell_type": "code",
   "execution_count": 187,
   "metadata": {},
   "outputs": [
    {
     "data": {
      "text/plain": [
       "(1260, 7)"
      ]
     },
     "execution_count": 187,
     "metadata": {},
     "output_type": "execute_result"
    }
   ],
   "source": [
    "ss = ss.dropna() #drop values considered as missing \n",
    "\n",
    "ss.shape #check dim of ss to validate if rows with missing values are dropped"
   ]
  },
  {
   "cell_type": "markdown",
   "metadata": {},
   "source": [
    "#### Perform exploratory analysis to examine how the features are related to the target -View data & Visualizatons Section for Q3"
   ]
  },
  {
   "cell_type": "code",
   "execution_count": 189,
   "metadata": {},
   "outputs": [
    {
     "data": {
      "text/html": [
       "<div>\n",
       "<style scoped>\n",
       "    .dataframe tbody tr th:only-of-type {\n",
       "        vertical-align: middle;\n",
       "    }\n",
       "\n",
       "    .dataframe tbody tr th {\n",
       "        vertical-align: top;\n",
       "    }\n",
       "\n",
       "    .dataframe thead th {\n",
       "        text-align: right;\n",
       "    }\n",
       "</style>\n",
       "<table border=\"1\" class=\"dataframe\">\n",
       "  <thead>\n",
       "    <tr style=\"text-align: right;\">\n",
       "      <th></th>\n",
       "      <th>income</th>\n",
       "      <th>education</th>\n",
       "      <th>age</th>\n",
       "      <th>parent</th>\n",
       "      <th>married</th>\n",
       "      <th>gender</th>\n",
       "      <th>sm_li</th>\n",
       "    </tr>\n",
       "  </thead>\n",
       "  <tbody>\n",
       "    <tr>\n",
       "      <th>0</th>\n",
       "      <td>6.0</td>\n",
       "      <td>4.0</td>\n",
       "      <td>77.0</td>\n",
       "      <td>0</td>\n",
       "      <td>0</td>\n",
       "      <td>1</td>\n",
       "      <td>0</td>\n",
       "    </tr>\n",
       "    <tr>\n",
       "      <th>1</th>\n",
       "      <td>5.0</td>\n",
       "      <td>3.0</td>\n",
       "      <td>59.0</td>\n",
       "      <td>0</td>\n",
       "      <td>0</td>\n",
       "      <td>0</td>\n",
       "      <td>0</td>\n",
       "    </tr>\n",
       "    <tr>\n",
       "      <th>2</th>\n",
       "      <td>8.0</td>\n",
       "      <td>4.0</td>\n",
       "      <td>60.0</td>\n",
       "      <td>0</td>\n",
       "      <td>1</td>\n",
       "      <td>1</td>\n",
       "      <td>0</td>\n",
       "    </tr>\n",
       "    <tr>\n",
       "      <th>3</th>\n",
       "      <td>8.0</td>\n",
       "      <td>8.0</td>\n",
       "      <td>73.0</td>\n",
       "      <td>0</td>\n",
       "      <td>0</td>\n",
       "      <td>0</td>\n",
       "      <td>0</td>\n",
       "    </tr>\n",
       "    <tr>\n",
       "      <th>4</th>\n",
       "      <td>7.0</td>\n",
       "      <td>8.0</td>\n",
       "      <td>65.0</td>\n",
       "      <td>0</td>\n",
       "      <td>1</td>\n",
       "      <td>1</td>\n",
       "      <td>1</td>\n",
       "    </tr>\n",
       "  </tbody>\n",
       "</table>\n",
       "</div>"
      ],
      "text/plain": [
       "   income  education   age  parent  married  gender  sm_li\n",
       "0     6.0        4.0  77.0       0        0       1      0\n",
       "1     5.0        3.0  59.0       0        0       0      0\n",
       "2     8.0        4.0  60.0       0        1       1      0\n",
       "3     8.0        8.0  73.0       0        0       0      0\n",
       "4     7.0        8.0  65.0       0        1       1      1"
      ]
     },
     "execution_count": 189,
     "metadata": {},
     "output_type": "execute_result"
    }
   ],
   "source": [
    "ss.head()"
   ]
  },
  {
   "cell_type": "markdown",
   "metadata": {},
   "source": [
    "***"
   ]
  },
  {
   "cell_type": "markdown",
   "metadata": {},
   "source": [
    "##### *Scatterplot indicating LinkedIn Usage by Age and Parents*"
   ]
  },
  {
   "cell_type": "code",
   "execution_count": 192,
   "metadata": {},
   "outputs": [
    {
     "data": {
      "text/html": [
       "\n",
       "<style>\n",
       "  #altair-viz-0023ff0c04644c21b793afed6c238613.vega-embed {\n",
       "    width: 100%;\n",
       "    display: flex;\n",
       "  }\n",
       "\n",
       "  #altair-viz-0023ff0c04644c21b793afed6c238613.vega-embed details,\n",
       "  #altair-viz-0023ff0c04644c21b793afed6c238613.vega-embed details summary {\n",
       "    position: relative;\n",
       "  }\n",
       "</style>\n",
       "<div id=\"altair-viz-0023ff0c04644c21b793afed6c238613\"></div>\n",
       "<script type=\"text/javascript\">\n",
       "  var VEGA_DEBUG = (typeof VEGA_DEBUG == \"undefined\") ? {} : VEGA_DEBUG;\n",
       "  (function(spec, embedOpt){\n",
       "    let outputDiv = document.currentScript.previousElementSibling;\n",
       "    if (outputDiv.id !== \"altair-viz-0023ff0c04644c21b793afed6c238613\") {\n",
       "      outputDiv = document.getElementById(\"altair-viz-0023ff0c04644c21b793afed6c238613\");\n",
       "    }\n",
       "    const paths = {\n",
       "      \"vega\": \"https://cdn.jsdelivr.net/npm/vega@5?noext\",\n",
       "      \"vega-lib\": \"https://cdn.jsdelivr.net/npm/vega-lib?noext\",\n",
       "      \"vega-lite\": \"https://cdn.jsdelivr.net/npm/vega-lite@5.8.0?noext\",\n",
       "      \"vega-embed\": \"https://cdn.jsdelivr.net/npm/vega-embed@6?noext\",\n",
       "    };\n",
       "\n",
       "    function maybeLoadScript(lib, version) {\n",
       "      var key = `${lib.replace(\"-\", \"\")}_version`;\n",
       "      return (VEGA_DEBUG[key] == version) ?\n",
       "        Promise.resolve(paths[lib]) :\n",
       "        new Promise(function(resolve, reject) {\n",
       "          var s = document.createElement('script');\n",
       "          document.getElementsByTagName(\"head\")[0].appendChild(s);\n",
       "          s.async = true;\n",
       "          s.onload = () => {\n",
       "            VEGA_DEBUG[key] = version;\n",
       "            return resolve(paths[lib]);\n",
       "          };\n",
       "          s.onerror = () => reject(`Error loading script: ${paths[lib]}`);\n",
       "          s.src = paths[lib];\n",
       "        });\n",
       "    }\n",
       "\n",
       "    function showError(err) {\n",
       "      outputDiv.innerHTML = `<div class=\"error\" style=\"color:red;\">${err}</div>`;\n",
       "      throw err;\n",
       "    }\n",
       "\n",
       "    function displayChart(vegaEmbed) {\n",
       "      vegaEmbed(outputDiv, spec, embedOpt)\n",
       "        .catch(err => showError(`Javascript Error: ${err.message}<br>This usually means there's a typo in your chart specification. See the javascript console for the full traceback.`));\n",
       "    }\n",
       "\n",
       "    if(typeof define === \"function\" && define.amd) {\n",
       "      requirejs.config({paths});\n",
       "      require([\"vega-embed\"], displayChart, err => showError(`Error loading script: ${err.message}`));\n",
       "    } else {\n",
       "      maybeLoadScript(\"vega\", \"5\")\n",
       "        .then(() => maybeLoadScript(\"vega-lite\", \"5.8.0\"))\n",
       "        .then(() => maybeLoadScript(\"vega-embed\", \"6\"))\n",
       "        .catch(showError)\n",
       "        .then(() => displayChart(vegaEmbed));\n",
       "    }\n",
       "  })({\"config\": {\"view\": {\"continuousWidth\": 300, \"continuousHeight\": 300}}, \"data\": {\"name\": \"data-9e14f3e78161253448c469ae98f93fba\"}, \"mark\": {\"type\": \"circle\"}, \"encoding\": {\"color\": {\"field\": \"parent\", \"type\": \"nominal\"}, \"x\": {\"field\": \"age\", \"type\": \"quantitative\"}, \"y\": {\"field\": \"sm_li\", \"type\": \"quantitative\"}}, \"$schema\": \"https://vega.github.io/schema/vega-lite/v5.8.0.json\", \"datasets\": {\"data-9e14f3e78161253448c469ae98f93fba\": [{\"age\": 18.0, \"parent\": 0, \"sm_li\": 0.05263157894736842}, {\"age\": 19.0, \"parent\": 0, \"sm_li\": 0.09090909090909091}, {\"age\": 19.0, \"parent\": 1, \"sm_li\": 1.0}, {\"age\": 20.0, \"parent\": 0, \"sm_li\": 0.3333333333333333}, {\"age\": 21.0, \"parent\": 0, \"sm_li\": 0.42857142857142855}, {\"age\": 21.0, \"parent\": 1, \"sm_li\": 0.0}, {\"age\": 22.0, \"parent\": 0, \"sm_li\": 0.42105263157894735}, {\"age\": 22.0, \"parent\": 1, \"sm_li\": 0.0}, {\"age\": 23.0, \"parent\": 0, \"sm_li\": 0.6111111111111112}, {\"age\": 23.0, \"parent\": 1, \"sm_li\": 0.0}, {\"age\": 24.0, \"parent\": 0, \"sm_li\": 0.5294117647058824}, {\"age\": 24.0, \"parent\": 1, \"sm_li\": 0.3333333333333333}, {\"age\": 25.0, \"parent\": 0, \"sm_li\": 0.4}, {\"age\": 25.0, \"parent\": 1, \"sm_li\": 0.0}, {\"age\": 26.0, \"parent\": 0, \"sm_li\": 0.5384615384615384}, {\"age\": 27.0, \"parent\": 0, \"sm_li\": 0.36363636363636365}, {\"age\": 27.0, \"parent\": 1, \"sm_li\": 0.75}, {\"age\": 28.0, \"parent\": 0, \"sm_li\": 0.4666666666666667}, {\"age\": 28.0, \"parent\": 1, \"sm_li\": 0.14285714285714285}, {\"age\": 29.0, \"parent\": 0, \"sm_li\": 0.0}, {\"age\": 29.0, \"parent\": 1, \"sm_li\": 0.0}, {\"age\": 30.0, \"parent\": 0, \"sm_li\": 0.375}, {\"age\": 30.0, \"parent\": 1, \"sm_li\": 0.35714285714285715}, {\"age\": 31.0, \"parent\": 0, \"sm_li\": 0.3076923076923077}, {\"age\": 31.0, \"parent\": 1, \"sm_li\": 0.4}, {\"age\": 32.0, \"parent\": 0, \"sm_li\": 0.26666666666666666}, {\"age\": 32.0, \"parent\": 1, \"sm_li\": 0.16666666666666666}, {\"age\": 33.0, \"parent\": 0, \"sm_li\": 0.6666666666666666}, {\"age\": 33.0, \"parent\": 1, \"sm_li\": 0.3333333333333333}, {\"age\": 34.0, \"parent\": 0, \"sm_li\": 0.45454545454545453}, {\"age\": 34.0, \"parent\": 1, \"sm_li\": 0.4}, {\"age\": 35.0, \"parent\": 0, \"sm_li\": 0.7142857142857143}, {\"age\": 35.0, \"parent\": 1, \"sm_li\": 0.35714285714285715}, {\"age\": 36.0, \"parent\": 0, \"sm_li\": 0.2727272727272727}, {\"age\": 36.0, \"parent\": 1, \"sm_li\": 0.7}, {\"age\": 37.0, \"parent\": 0, \"sm_li\": 0.25}, {\"age\": 37.0, \"parent\": 1, \"sm_li\": 0.4166666666666667}, {\"age\": 38.0, \"parent\": 0, \"sm_li\": 0.5714285714285714}, {\"age\": 38.0, \"parent\": 1, \"sm_li\": 0.45454545454545453}, {\"age\": 39.0, \"parent\": 0, \"sm_li\": 0.375}, {\"age\": 39.0, \"parent\": 1, \"sm_li\": 0.4166666666666667}, {\"age\": 40.0, \"parent\": 0, \"sm_li\": 0.42857142857142855}, {\"age\": 40.0, \"parent\": 1, \"sm_li\": 0.2692307692307692}, {\"age\": 41.0, \"parent\": 0, \"sm_li\": 0.4}, {\"age\": 41.0, \"parent\": 1, \"sm_li\": 0.3333333333333333}, {\"age\": 42.0, \"parent\": 0, \"sm_li\": 0.375}, {\"age\": 42.0, \"parent\": 1, \"sm_li\": 0.6363636363636364}, {\"age\": 43.0, \"parent\": 0, \"sm_li\": 0.5}, {\"age\": 43.0, \"parent\": 1, \"sm_li\": 0.2727272727272727}, {\"age\": 44.0, \"parent\": 0, \"sm_li\": 0.8}, {\"age\": 44.0, \"parent\": 1, \"sm_li\": 0.5833333333333334}, {\"age\": 45.0, \"parent\": 0, \"sm_li\": 0.7142857142857143}, {\"age\": 45.0, \"parent\": 1, \"sm_li\": 0.16666666666666666}, {\"age\": 46.0, \"parent\": 0, \"sm_li\": 0.4}, {\"age\": 46.0, \"parent\": 1, \"sm_li\": 0.5833333333333334}, {\"age\": 47.0, \"parent\": 0, \"sm_li\": 0.375}, {\"age\": 47.0, \"parent\": 1, \"sm_li\": 0.45454545454545453}, {\"age\": 48.0, \"parent\": 0, \"sm_li\": 0.08333333333333333}, {\"age\": 48.0, \"parent\": 1, \"sm_li\": 0.375}, {\"age\": 49.0, \"parent\": 0, \"sm_li\": 0.3333333333333333}, {\"age\": 49.0, \"parent\": 1, \"sm_li\": 0.7272727272727273}, {\"age\": 50.0, \"parent\": 0, \"sm_li\": 0.46153846153846156}, {\"age\": 50.0, \"parent\": 1, \"sm_li\": 0.5}, {\"age\": 51.0, \"parent\": 0, \"sm_li\": 0.42857142857142855}, {\"age\": 51.0, \"parent\": 1, \"sm_li\": 0.25}, {\"age\": 52.0, \"parent\": 0, \"sm_li\": 0.125}, {\"age\": 52.0, \"parent\": 1, \"sm_li\": 0.8181818181818182}, {\"age\": 53.0, \"parent\": 0, \"sm_li\": 0.2727272727272727}, {\"age\": 53.0, \"parent\": 1, \"sm_li\": 0.5}, {\"age\": 54.0, \"parent\": 0, \"sm_li\": 0.42857142857142855}, {\"age\": 54.0, \"parent\": 1, \"sm_li\": 1.0}, {\"age\": 55.0, \"parent\": 0, \"sm_li\": 0.4117647058823529}, {\"age\": 55.0, \"parent\": 1, \"sm_li\": 0.25}, {\"age\": 56.0, \"parent\": 0, \"sm_li\": 0.42105263157894735}, {\"age\": 56.0, \"parent\": 1, \"sm_li\": 0.5}, {\"age\": 57.0, \"parent\": 0, \"sm_li\": 0.375}, {\"age\": 57.0, \"parent\": 1, \"sm_li\": 1.0}, {\"age\": 58.0, \"parent\": 0, \"sm_li\": 0.6666666666666666}, {\"age\": 58.0, \"parent\": 1, \"sm_li\": 0.3333333333333333}, {\"age\": 59.0, \"parent\": 0, \"sm_li\": 0.43478260869565216}, {\"age\": 59.0, \"parent\": 1, \"sm_li\": 0.0}, {\"age\": 60.0, \"parent\": 0, \"sm_li\": 0.17142857142857143}, {\"age\": 60.0, \"parent\": 1, \"sm_li\": 0.5}, {\"age\": 61.0, \"parent\": 0, \"sm_li\": 0.5238095238095238}, {\"age\": 61.0, \"parent\": 1, \"sm_li\": 1.0}, {\"age\": 62.0, \"parent\": 0, \"sm_li\": 0.2631578947368421}, {\"age\": 63.0, \"parent\": 0, \"sm_li\": 0.2857142857142857}, {\"age\": 63.0, \"parent\": 1, \"sm_li\": 0.0}, {\"age\": 64.0, \"parent\": 0, \"sm_li\": 0.2916666666666667}, {\"age\": 64.0, \"parent\": 1, \"sm_li\": 1.0}, {\"age\": 65.0, \"parent\": 0, \"sm_li\": 0.2702702702702703}, {\"age\": 65.0, \"parent\": 1, \"sm_li\": 0.5}, {\"age\": 66.0, \"parent\": 0, \"sm_li\": 0.09090909090909091}, {\"age\": 67.0, \"parent\": 0, \"sm_li\": 0.23529411764705882}, {\"age\": 67.0, \"parent\": 1, \"sm_li\": 0.0}, {\"age\": 68.0, \"parent\": 0, \"sm_li\": 0.3}, {\"age\": 69.0, \"parent\": 0, \"sm_li\": 0.375}, {\"age\": 69.0, \"parent\": 1, \"sm_li\": 0.0}, {\"age\": 70.0, \"parent\": 0, \"sm_li\": 0.0625}, {\"age\": 70.0, \"parent\": 1, \"sm_li\": 0.0}, {\"age\": 71.0, \"parent\": 0, \"sm_li\": 0.23076923076923078}, {\"age\": 71.0, \"parent\": 1, \"sm_li\": 0.0}, {\"age\": 72.0, \"parent\": 0, \"sm_li\": 0.4666666666666667}, {\"age\": 73.0, \"parent\": 0, \"sm_li\": 0.12}, {\"age\": 74.0, \"parent\": 0, \"sm_li\": 0.0}, {\"age\": 74.0, \"parent\": 1, \"sm_li\": 0.0}, {\"age\": 75.0, \"parent\": 0, \"sm_li\": 0.45}, {\"age\": 76.0, \"parent\": 0, \"sm_li\": 0.2857142857142857}, {\"age\": 76.0, \"parent\": 1, \"sm_li\": 0.0}, {\"age\": 77.0, \"parent\": 0, \"sm_li\": 0.23076923076923078}, {\"age\": 78.0, \"parent\": 0, \"sm_li\": 0.0}, {\"age\": 78.0, \"parent\": 1, \"sm_li\": 0.0}, {\"age\": 79.0, \"parent\": 0, \"sm_li\": 0.2222222222222222}, {\"age\": 79.0, \"parent\": 1, \"sm_li\": 0.0}, {\"age\": 80.0, \"parent\": 0, \"sm_li\": 0.0}, {\"age\": 81.0, \"parent\": 0, \"sm_li\": 0.0}, {\"age\": 82.0, \"parent\": 0, \"sm_li\": 0.2857142857142857}, {\"age\": 82.0, \"parent\": 1, \"sm_li\": 0.0}, {\"age\": 83.0, \"parent\": 0, \"sm_li\": 0.125}, {\"age\": 84.0, \"parent\": 0, \"sm_li\": 0.0}, {\"age\": 84.0, \"parent\": 1, \"sm_li\": 0.0}, {\"age\": 85.0, \"parent\": 0, \"sm_li\": 0.0}, {\"age\": 86.0, \"parent\": 0, \"sm_li\": 0.0}, {\"age\": 87.0, \"parent\": 0, \"sm_li\": 0.0}, {\"age\": 88.0, \"parent\": 0, \"sm_li\": 0.0}, {\"age\": 89.0, \"parent\": 0, \"sm_li\": 0.0}, {\"age\": 90.0, \"parent\": 0, \"sm_li\": 0.0}, {\"age\": 92.0, \"parent\": 0, \"sm_li\": 0.0}, {\"age\": 93.0, \"parent\": 0, \"sm_li\": 0.0}, {\"age\": 94.0, \"parent\": 0, \"sm_li\": 0.0}, {\"age\": 97.0, \"parent\": 0, \"sm_li\": 0.0}]}}, {\"mode\": \"vega-lite\"});\n",
       "</script>"
      ],
      "text/plain": [
       "alt.Chart(...)"
      ]
     },
     "execution_count": 192,
     "metadata": {},
     "output_type": "execute_result"
    }
   ],
   "source": [
    "alt.Chart(ss.groupby([\"age\", \"parent\"], as_index=False)[\"sm_li\"].mean()).\\\n",
    "mark_circle().\\\n",
    "encode(x=\"age\",\n",
    "      y=\"sm_li\",\n",
    "      color=\"parent:N\")"
   ]
  },
  {
   "cell_type": "markdown",
   "metadata": {},
   "source": [
    "***"
   ]
  },
  {
   "cell_type": "markdown",
   "metadata": {},
   "source": [
    "##### *Plot sm_li as a function of age*"
   ]
  },
  {
   "cell_type": "code",
   "execution_count": 195,
   "metadata": {},
   "outputs": [
    {
     "name": "stderr",
     "output_type": "stream",
     "text": [
      "C:\\Users\\bokat\\AppData\\Local\\Temp\\ipykernel_19476\\3454038400.py:7: FutureWarning: The default of observed=False is deprecated and will be changed to True in a future version of pandas. Pass observed=False to retain current behavior or observed=True to adopt the future default and silence this warning.\n",
      "  mean_usage = graph_df.groupby('age_bins')['sm_li'].mean().reset_index()\n",
      "C:\\Users\\bokat\\AppData\\Local\\Temp\\ipykernel_19476\\3454038400.py:11: FutureWarning: \n",
      "\n",
      "Passing `palette` without assigning `hue` is deprecated and will be removed in v0.14.0. Assign the `x` variable to `hue` and set `legend=False` for the same effect.\n",
      "\n",
      "  sns.barplot(data=mean_usage, x='age_bins', y='sm_li', palette='viridis')\n"
     ]
    },
    {
     "data": {
      "image/png": "[encoded data removed]",
      "text/plain": [
       "<Figure size 800x500 with 1 Axes>"
      ]
     },
     "metadata": {},
     "output_type": "display_data"
    }
   ],
   "source": [
    "graph_df =ss.copy()\n",
    "\n",
    "# Create age bins\n",
    "graph_df['age_bins'] = pd.cut(graph_df['age'], bins=10)  \n",
    "\n",
    "# Calculate mean LinkedIn usage by age bin\n",
    "mean_usage = graph_df.groupby('age_bins')['sm_li'].mean().reset_index()\n",
    "\n",
    "# Plot \n",
    "plt.figure(figsize=(8, 5))\n",
    "sns.barplot(data=mean_usage, x='age_bins', y='sm_li', palette='viridis')\n",
    "plt.title('LinkedIn Usage by Age Group', fontsize=16)\n",
    "plt.xlabel('Age Group', fontsize=12)\n",
    "plt.ylabel('Average LinkedIn Usage (sm_li)', fontsize=12)\n",
    "plt.xticks(rotation=45, fontsize=10)  # Rotate x-axis labels for readability\n",
    "plt.yticks(fontsize=10)\n",
    "\n",
    "plt.show()\n"
   ]
  },
  {
   "cell_type": "markdown",
   "metadata": {},
   "source": [
    "***"
   ]
  },
  {
   "cell_type": "markdown",
   "metadata": {},
   "source": [
    "##### *Plot LinkedIn Usage by Household Income*"
   ]
  },
  {
   "cell_type": "code",
   "execution_count": 198,
   "metadata": {},
   "outputs": [
    {
     "name": "stderr",
     "output_type": "stream",
     "text": [
      "C:\\Users\\bokat\\AppData\\Local\\Temp\\ipykernel_19476\\1375515223.py:33: FutureWarning: \n",
      "\n",
      "Passing `palette` without assigning `hue` is deprecated and will be removed in v0.14.0. Assign the `x` variable to `hue` and set `legend=False` for the same effect.\n",
      "\n",
      "  sns.barplot(data=graph_df, x='income_label', y='sm_li', palette='viridis')\n"
     ]
    },
    {
     "data": {
      "image/png": "[encoded data removed]",
      "text/plain": [
       "<Figure size 1000x600 with 1 Axes>"
      ]
     },
     "metadata": {},
     "output_type": "display_data"
    }
   ],
   "source": [
    "# Create a separate DataFrame for visualization\n",
    "graph_df = ss.copy()\n",
    "\n",
    "# Handle NaN values and convert to integers in the new DataFrame\n",
    "graph_df = graph_df.dropna(subset=['income'])  # Drop rows where income is NaN\n",
    "graph_df['income'] = graph_df['income'].astype(int)  # Convert to integer for mapping\n",
    "\n",
    "# Replace numeric income categories with their descriptions\n",
    "income_labels = [\n",
    "    \"Less than $10,000\",\n",
    "    \"$10,000-$19,999\",\n",
    "    \"$20,000-$29,999\",\n",
    "    \"$30,000-$39,999\",\n",
    "    \"$40,000-$49,999\",\n",
    "    \"$50,000-$74,999\",\n",
    "    \"$75,000-$99,999\",\n",
    "    \"$100,000-$149,999\",\n",
    "    \"$150,000 or more\"\n",
    "]\n",
    "\n",
    "# Map the income labels in the new DataFrame\n",
    "graph_df['income_label'] = graph_df['income'].map(lambda x: income_labels[x - 1])\n",
    "\n",
    "\n",
    "graph_df['income_label'] = pd.Categorical(  # Specify the ordinal order for income categories\n",
    "    graph_df['income_label'],\n",
    "    categories=income_labels,\n",
    "    ordered=True\n",
    ")\n",
    "\n",
    "# Plot LinkedIn usage by income\n",
    "plt.figure(figsize=(10, 6))\n",
    "sns.barplot(data=graph_df, x='income_label', y='sm_li', palette='viridis')\n",
    "\n",
    "# Customize labels and title\n",
    "plt.title('LinkedIn Usage by Household Income', fontsize=16)\n",
    "plt.xlabel('Household Income', fontsize=12)\n",
    "plt.ylabel('Average LinkedIn Usage (sm_li)', fontsize=12)\n",
    "plt.xticks(rotation=45, fontsize=10)\n",
    "plt.yticks(fontsize=10)\n",
    "\n",
    "plt.show()\n"
   ]
  },
  {
   "cell_type": "markdown",
   "metadata": {},
   "source": [
    "***"
   ]
  },
  {
   "cell_type": "markdown",
   "metadata": {},
   "source": [
    "##### *Plot Proportion of LinkedIn Users by Gender and Marital Status*"
   ]
  },
  {
   "cell_type": "code",
   "execution_count": 201,
   "metadata": {},
   "outputs": [
    {
     "name": "stderr",
     "output_type": "stream",
     "text": [
      "C:\\Users\\bokat\\AppData\\Local\\Temp\\ipykernel_19476\\2182346508.py:15: FutureWarning: \n",
      "\n",
      "Passing `palette` without assigning `hue` is deprecated and will be removed in v0.14.0. Assign the `x` variable to `hue` and set `legend=False` for the same effect.\n",
      "\n",
      "  sns.barplot(data=grouped_data, x='group_label', y='sm_li', palette='viridis')\n"
     ]
    },
    {
     "data": {
      "image/png": "[encoded data removed]",
      "text/plain": [
       "<Figure size 1000x600 with 1 Axes>"
      ]
     },
     "metadata": {},
     "output_type": "display_data"
    }
   ],
   "source": [
    "# Create a subset with relevant columns and filter necessary rows\n",
    "subset_df = ss[['gender', 'married', 'sm_li']].copy()\n",
    "\n",
    "subset_df['female'] = subset_df['gender']  # Rename gender to female for clarity\n",
    "\n",
    "grouped_data = subset_df.groupby(['female', 'married'])['sm_li'].mean().reset_index() # proportion of LinkedIn users female and married\n",
    "\n",
    "grouped_data['female_label'] = grouped_data['female'].map({0: 'Male', 1: 'Female'}) \n",
    "grouped_data['married_label'] = grouped_data['married'].map({0: 'Not Married', 1: 'Married'})\n",
    "\n",
    "grouped_data['group_label'] = grouped_data['female_label'] + ' & ' + grouped_data['married_label'] # Create a combined label for the groups\n",
    "\n",
    "# Plot the data\n",
    "plt.figure(figsize=(10, 6))\n",
    "sns.barplot(data=grouped_data, x='group_label', y='sm_li', palette='viridis')\n",
    "\n",
    "# Customize labels and title\n",
    "plt.title('Proportion of LinkedIn Usage by Gender and Marital Status', fontsize=16)\n",
    "plt.xlabel('Group', fontsize=12)\n",
    "plt.ylabel('Proportion of LinkedIn Usage', fontsize=12)\n",
    "plt.ylim(0, 1)  # Proportion values range from 0 to 1\n",
    "plt.xticks(rotation=45, fontsize=10)  # Rotate labels for clarity\n",
    "plt.yticks(fontsize=10)\n",
    "\n",
    "plt.show()\n"
   ]
  },
  {
   "cell_type": "markdown",
   "metadata": {},
   "source": [
    "***"
   ]
  },
  {
   "cell_type": "markdown",
   "metadata": {},
   "source": [
    "##### *Plot Proportion of Females Using LinkedIn*"
   ]
  },
  {
   "cell_type": "code",
   "execution_count": 204,
   "metadata": {},
   "outputs": [
    {
     "name": "stderr",
     "output_type": "stream",
     "text": [
      "C:\\Users\\bokat\\AppData\\Local\\Temp\\ipykernel_19476\\24328914.py:15: FutureWarning: \n",
      "\n",
      "Passing `palette` without assigning `hue` is deprecated and will be removed in v0.14.0. Assign the `x` variable to `hue` and set `legend=False` for the same effect.\n",
      "\n",
      "  sns.barplot(data=plot_data, x='Category', y='Proportion', palette= 'Greens')\n"
     ]
    },
    {
     "data": {
      "text/plain": [
       "Text(0.5, 1.0, 'Proportion of Females Using Linked')"
      ]
     },
     "execution_count": 204,
     "metadata": {},
     "output_type": "execute_result"
    },
    {
     "data": {
      "image/png": "[encoded data removed]",
      "text/plain": [
       "<Figure size 600x400 with 1 Axes>"
      ]
     },
     "metadata": {},
     "output_type": "display_data"
    }
   ],
   "source": [
    "# Filter for females only (gender = 1)\n",
    "female_df = ss[ss['gender'] == 1]\n",
    "\n",
    "# Calculate the proportion of LinkedIn users among females\n",
    "female_linkedin_usage = female_df['sm_li'].mean()  # Proportion of sm_li = 1\n",
    "\n",
    "# Create a DataFrame for plotting\n",
    "plot_data = pd.DataFrame({\n",
    "    'Category': ['Female (gender=1)'],\n",
    "    'Proportion': [female_linkedin_usage]\n",
    "})\n",
    "\n",
    "# Plot\n",
    "plt.figure(figsize=(6, 4))\n",
    "sns.barplot(data=plot_data, x='Category', y='Proportion', palette= 'Greens')\n",
    "\n",
    "# Customize labels and title\n",
    "plt.title('Proportion of Females Using Linked')\n"
   ]
  },
  {
   "cell_type": "markdown",
   "metadata": {},
   "source": [
    "***"
   ]
  },
  {
   "cell_type": "code",
   "execution_count": 206,
   "metadata": {},
   "outputs": [
    {
     "data": {
      "text/html": [
       "\n",
       "<style>\n",
       "  #altair-viz-1d5f14295a334be29b84efdf5ce982c2.vega-embed {\n",
       "    width: 100%;\n",
       "    display: flex;\n",
       "  }\n",
       "\n",
       "  #altair-viz-1d5f14295a334be29b84efdf5ce982c2.vega-embed details,\n",
       "  #altair-viz-1d5f14295a334be29b84efdf5ce982c2.vega-embed details summary {\n",
       "    position: relative;\n",
       "  }\n",
       "</style>\n",
       "<div id=\"altair-viz-1d5f14295a334be29b84efdf5ce982c2\"></div>\n",
       "<script type=\"text/javascript\">\n",
       "  var VEGA_DEBUG = (typeof VEGA_DEBUG == \"undefined\") ? {} : VEGA_DEBUG;\n",
       "  (function(spec, embedOpt){\n",
       "    let outputDiv = document.currentScript.previousElementSibling;\n",
       "    if (outputDiv.id !== \"altair-viz-1d5f14295a334be29b84efdf5ce982c2\") {\n",
       "      outputDiv = document.getElementById(\"altair-viz-1d5f14295a334be29b84efdf5ce982c2\");\n",
       "    }\n",
       "    const paths = {\n",
       "      \"vega\": \"https://cdn.jsdelivr.net/npm/vega@5?noext\",\n",
       "      \"vega-lib\": \"https://cdn.jsdelivr.net/npm/vega-lib?noext\",\n",
       "      \"vega-lite\": \"https://cdn.jsdelivr.net/npm/vega-lite@5.8.0?noext\",\n",
       "      \"vega-embed\": \"https://cdn.jsdelivr.net/npm/vega-embed@6?noext\",\n",
       "    };\n",
       "\n",
       "    function maybeLoadScript(lib, version) {\n",
       "      var key = `${lib.replace(\"-\", \"\")}_version`;\n",
       "      return (VEGA_DEBUG[key] == version) ?\n",
       "        Promise.resolve(paths[lib]) :\n",
       "        new Promise(function(resolve, reject) {\n",
       "          var s = document.createElement('script');\n",
       "          document.getElementsByTagName(\"head\")[0].appendChild(s);\n",
       "          s.async = true;\n",
       "          s.onload = () => {\n",
       "            VEGA_DEBUG[key] = version;\n",
       "            return resolve(paths[lib]);\n",
       "          };\n",
       "          s.onerror = () => reject(`Error loading script: ${paths[lib]}`);\n",
       "          s.src = paths[lib];\n",
       "        });\n",
       "    }\n",
       "\n",
       "    function showError(err) {\n",
       "      outputDiv.innerHTML = `<div class=\"error\" style=\"color:red;\">${err}</div>`;\n",
       "      throw err;\n",
       "    }\n",
       "\n",
       "    function displayChart(vegaEmbed) {\n",
       "      vegaEmbed(outputDiv, spec, embedOpt)\n",
       "        .catch(err => showError(`Javascript Error: ${err.message}<br>This usually means there's a typo in your chart specification. See the javascript console for the full traceback.`));\n",
       "    }\n",
       "\n",
       "    if(typeof define === \"function\" && define.amd) {\n",
       "      requirejs.config({paths});\n",
       "      require([\"vega-embed\"], displayChart, err => showError(`Error loading script: ${err.message}`));\n",
       "    } else {\n",
       "      maybeLoadScript(\"vega\", \"5\")\n",
       "        .then(() => maybeLoadScript(\"vega-lite\", \"5.8.0\"))\n",
       "        .then(() => maybeLoadScript(\"vega-embed\", \"6\"))\n",
       "        .catch(showError)\n",
       "        .then(() => displayChart(vegaEmbed));\n",
       "    }\n",
       "  })({\"config\": {\"view\": {\"continuousWidth\": 300, \"continuousHeight\": 300}}, \"data\": {\"name\": \"data-0bf65eccb4df6d1e3ffb17a1b3907dd1\"}, \"mark\": {\"type\": \"square\"}, \"encoding\": {\"color\": {\"field\": \"gender\", \"type\": \"nominal\"}, \"x\": {\"field\": \"age\", \"type\": \"quantitative\"}, \"y\": {\"field\": \"sm_li\", \"type\": \"quantitative\"}}, \"$schema\": \"https://vega.github.io/schema/vega-lite/v5.8.0.json\", \"datasets\": {\"data-0bf65eccb4df6d1e3ffb17a1b3907dd1\": [{\"age\": 18.0, \"gender\": 0, \"sm_li\": 0.1}, {\"age\": 18.0, \"gender\": 1, \"sm_li\": 0.0}, {\"age\": 19.0, \"gender\": 0, \"sm_li\": 0.1}, {\"age\": 19.0, \"gender\": 1, \"sm_li\": 0.5}, {\"age\": 20.0, \"gender\": 0, \"sm_li\": 0.4166666666666667}, {\"age\": 20.0, \"gender\": 1, \"sm_li\": 0.0}, {\"age\": 21.0, \"gender\": 0, \"sm_li\": 0.3333333333333333}, {\"age\": 21.0, \"gender\": 1, \"sm_li\": 0.5}, {\"age\": 22.0, \"gender\": 0, \"sm_li\": 0.46153846153846156}, {\"age\": 22.0, \"gender\": 1, \"sm_li\": 0.25}, {\"age\": 23.0, \"gender\": 0, \"sm_li\": 0.6}, {\"age\": 23.0, \"gender\": 1, \"sm_li\": 0.4}, {\"age\": 24.0, \"gender\": 0, \"sm_li\": 0.38461538461538464}, {\"age\": 24.0, \"gender\": 1, \"sm_li\": 0.7142857142857143}, {\"age\": 25.0, \"gender\": 0, \"sm_li\": 0.4}, {\"age\": 25.0, \"gender\": 1, \"sm_li\": 0.0}, {\"age\": 26.0, \"gender\": 0, \"sm_li\": 0.5555555555555556}, {\"age\": 26.0, \"gender\": 1, \"sm_li\": 0.5}, {\"age\": 27.0, \"gender\": 0, \"sm_li\": 0.5}, {\"age\": 27.0, \"gender\": 1, \"sm_li\": 0.42857142857142855}, {\"age\": 28.0, \"gender\": 0, \"sm_li\": 0.5}, {\"age\": 28.0, \"gender\": 1, \"sm_li\": 0.125}, {\"age\": 29.0, \"gender\": 0, \"sm_li\": 0.0}, {\"age\": 30.0, \"gender\": 0, \"sm_li\": 0.3333333333333333}, {\"age\": 30.0, \"gender\": 1, \"sm_li\": 0.4}, {\"age\": 31.0, \"gender\": 0, \"sm_li\": 0.2727272727272727}, {\"age\": 31.0, \"gender\": 1, \"sm_li\": 0.42857142857142855}, {\"age\": 32.0, \"gender\": 0, \"sm_li\": 0.36363636363636365}, {\"age\": 32.0, \"gender\": 1, \"sm_li\": 0.1}, {\"age\": 33.0, \"gender\": 0, \"sm_li\": 0.5555555555555556}, {\"age\": 33.0, \"gender\": 1, \"sm_li\": 0.5}, {\"age\": 34.0, \"gender\": 0, \"sm_li\": 0.4375}, {\"age\": 34.0, \"gender\": 1, \"sm_li\": 0.4}, {\"age\": 35.0, \"gender\": 0, \"sm_li\": 0.5454545454545454}, {\"age\": 35.0, \"gender\": 1, \"sm_li\": 0.4}, {\"age\": 36.0, \"gender\": 0, \"sm_li\": 0.4375}, {\"age\": 36.0, \"gender\": 1, \"sm_li\": 0.6}, {\"age\": 37.0, \"gender\": 0, \"sm_li\": 0.4}, {\"age\": 37.0, \"gender\": 1, \"sm_li\": 0.3}, {\"age\": 38.0, \"gender\": 0, \"sm_li\": 0.5833333333333334}, {\"age\": 38.0, \"gender\": 1, \"sm_li\": 0.3333333333333333}, {\"age\": 39.0, \"gender\": 0, \"sm_li\": 0.3333333333333333}, {\"age\": 39.0, \"gender\": 1, \"sm_li\": 0.5}, {\"age\": 40.0, \"gender\": 0, \"sm_li\": 0.42105263157894735}, {\"age\": 40.0, \"gender\": 1, \"sm_li\": 0.14285714285714285}, {\"age\": 41.0, \"gender\": 0, \"sm_li\": 0.6}, {\"age\": 41.0, \"gender\": 1, \"sm_li\": 0.16666666666666666}, {\"age\": 42.0, \"gender\": 0, \"sm_li\": 0.5}, {\"age\": 42.0, \"gender\": 1, \"sm_li\": 0.5555555555555556}, {\"age\": 43.0, \"gender\": 0, \"sm_li\": 0.42857142857142855}, {\"age\": 43.0, \"gender\": 1, \"sm_li\": 0.25}, {\"age\": 44.0, \"gender\": 0, \"sm_li\": 0.8181818181818182}, {\"age\": 44.0, \"gender\": 1, \"sm_li\": 0.3333333333333333}, {\"age\": 45.0, \"gender\": 0, \"sm_li\": 0.5}, {\"age\": 45.0, \"gender\": 1, \"sm_li\": 0.2222222222222222}, {\"age\": 46.0, \"gender\": 0, \"sm_li\": 0.3333333333333333}, {\"age\": 46.0, \"gender\": 1, \"sm_li\": 0.6363636363636364}, {\"age\": 47.0, \"gender\": 0, \"sm_li\": 0.375}, {\"age\": 47.0, \"gender\": 1, \"sm_li\": 0.45454545454545453}, {\"age\": 48.0, \"gender\": 0, \"sm_li\": 0.15384615384615385}, {\"age\": 48.0, \"gender\": 1, \"sm_li\": 0.2857142857142857}, {\"age\": 49.0, \"gender\": 0, \"sm_li\": 0.5555555555555556}, {\"age\": 49.0, \"gender\": 1, \"sm_li\": 0.625}, {\"age\": 50.0, \"gender\": 0, \"sm_li\": 0.4444444444444444}, {\"age\": 50.0, \"gender\": 1, \"sm_li\": 0.5}, {\"age\": 51.0, \"gender\": 0, \"sm_li\": 0.36363636363636365}, {\"age\": 51.0, \"gender\": 1, \"sm_li\": 0.25}, {\"age\": 52.0, \"gender\": 0, \"sm_li\": 0.5555555555555556}, {\"age\": 52.0, \"gender\": 1, \"sm_li\": 0.5}, {\"age\": 53.0, \"gender\": 0, \"sm_li\": 0.2727272727272727}, {\"age\": 53.0, \"gender\": 1, \"sm_li\": 0.5}, {\"age\": 54.0, \"gender\": 0, \"sm_li\": 0.6666666666666666}, {\"age\": 54.0, \"gender\": 1, \"sm_li\": 0.2857142857142857}, {\"age\": 55.0, \"gender\": 0, \"sm_li\": 0.45454545454545453}, {\"age\": 55.0, \"gender\": 1, \"sm_li\": 0.3}, {\"age\": 56.0, \"gender\": 0, \"sm_li\": 0.5}, {\"age\": 56.0, \"gender\": 1, \"sm_li\": 0.3333333333333333}, {\"age\": 57.0, \"gender\": 0, \"sm_li\": 0.5}, {\"age\": 57.0, \"gender\": 1, \"sm_li\": 0.6666666666666666}, {\"age\": 58.0, \"gender\": 0, \"sm_li\": 0.7}, {\"age\": 58.0, \"gender\": 1, \"sm_li\": 0.5}, {\"age\": 59.0, \"gender\": 0, \"sm_li\": 0.38461538461538464}, {\"age\": 59.0, \"gender\": 1, \"sm_li\": 0.45454545454545453}, {\"age\": 60.0, \"gender\": 0, \"sm_li\": 0.23333333333333334}, {\"age\": 60.0, \"gender\": 1, \"sm_li\": 0.1111111111111111}, {\"age\": 61.0, \"gender\": 0, \"sm_li\": 0.5714285714285714}, {\"age\": 61.0, \"gender\": 1, \"sm_li\": 0.5555555555555556}, {\"age\": 62.0, \"gender\": 0, \"sm_li\": 0.21052631578947367}, {\"age\": 62.0, \"gender\": 1, \"sm_li\": 0.3157894736842105}, {\"age\": 63.0, \"gender\": 0, \"sm_li\": 0.29411764705882354}, {\"age\": 63.0, \"gender\": 1, \"sm_li\": 0.2}, {\"age\": 64.0, \"gender\": 0, \"sm_li\": 0.46153846153846156}, {\"age\": 64.0, \"gender\": 1, \"sm_li\": 0.16666666666666666}, {\"age\": 65.0, \"gender\": 0, \"sm_li\": 0.3157894736842105}, {\"age\": 65.0, \"gender\": 1, \"sm_li\": 0.25}, {\"age\": 66.0, \"gender\": 0, \"sm_li\": 0.07692307692307693}, {\"age\": 66.0, \"gender\": 1, \"sm_li\": 0.1111111111111111}, {\"age\": 67.0, \"gender\": 0, \"sm_li\": 0.3}, {\"age\": 67.0, \"gender\": 1, \"sm_li\": 0.1111111111111111}, {\"age\": 68.0, \"gender\": 0, \"sm_li\": 0.42857142857142855}, {\"age\": 68.0, \"gender\": 1, \"sm_li\": 0.0}, {\"age\": 69.0, \"gender\": 0, \"sm_li\": 0.5}, {\"age\": 69.0, \"gender\": 1, \"sm_li\": 0.2222222222222222}, {\"age\": 70.0, \"gender\": 0, \"sm_li\": 0.06666666666666667}, {\"age\": 70.0, \"gender\": 1, \"sm_li\": 0.05263157894736842}, {\"age\": 71.0, \"gender\": 0, \"sm_li\": 0.2857142857142857}, {\"age\": 71.0, \"gender\": 1, \"sm_li\": 0.14285714285714285}, {\"age\": 72.0, \"gender\": 0, \"sm_li\": 0.4444444444444444}, {\"age\": 72.0, \"gender\": 1, \"sm_li\": 0.5}, {\"age\": 73.0, \"gender\": 0, \"sm_li\": 0.15}, {\"age\": 73.0, \"gender\": 1, \"sm_li\": 0.0}, {\"age\": 74.0, \"gender\": 0, \"sm_li\": 0.0}, {\"age\": 74.0, \"gender\": 1, \"sm_li\": 0.0}, {\"age\": 75.0, \"gender\": 0, \"sm_li\": 0.3333333333333333}, {\"age\": 75.0, \"gender\": 1, \"sm_li\": 0.5454545454545454}, {\"age\": 76.0, \"gender\": 0, \"sm_li\": 0.6666666666666666}, {\"age\": 76.0, \"gender\": 1, \"sm_li\": 0.0}, {\"age\": 77.0, \"gender\": 0, \"sm_li\": 0.3333333333333333}, {\"age\": 77.0, \"gender\": 1, \"sm_li\": 0.14285714285714285}, {\"age\": 78.0, \"gender\": 0, \"sm_li\": 0.0}, {\"age\": 78.0, \"gender\": 1, \"sm_li\": 0.0}, {\"age\": 79.0, \"gender\": 0, \"sm_li\": 0.5}, {\"age\": 79.0, \"gender\": 1, \"sm_li\": 0.0}, {\"age\": 80.0, \"gender\": 0, \"sm_li\": 0.0}, {\"age\": 80.0, \"gender\": 1, \"sm_li\": 0.0}, {\"age\": 81.0, \"gender\": 0, \"sm_li\": 0.0}, {\"age\": 81.0, \"gender\": 1, \"sm_li\": 0.0}, {\"age\": 82.0, \"gender\": 0, \"sm_li\": 0.0}, {\"age\": 82.0, \"gender\": 1, \"sm_li\": 0.3333333333333333}, {\"age\": 83.0, \"gender\": 0, \"sm_li\": 0.0}, {\"age\": 83.0, \"gender\": 1, \"sm_li\": 0.16666666666666666}, {\"age\": 84.0, \"gender\": 0, \"sm_li\": 0.0}, {\"age\": 84.0, \"gender\": 1, \"sm_li\": 0.0}, {\"age\": 85.0, \"gender\": 0, \"sm_li\": 0.0}, {\"age\": 85.0, \"gender\": 1, \"sm_li\": 0.0}, {\"age\": 86.0, \"gender\": 0, \"sm_li\": 0.0}, {\"age\": 86.0, \"gender\": 1, \"sm_li\": 0.0}, {\"age\": 87.0, \"gender\": 0, \"sm_li\": 0.0}, {\"age\": 87.0, \"gender\": 1, \"sm_li\": 0.0}, {\"age\": 88.0, \"gender\": 0, \"sm_li\": 0.0}, {\"age\": 88.0, \"gender\": 1, \"sm_li\": 0.0}, {\"age\": 89.0, \"gender\": 0, \"sm_li\": 0.0}, {\"age\": 90.0, \"gender\": 0, \"sm_li\": 0.0}, {\"age\": 92.0, \"gender\": 0, \"sm_li\": 0.0}, {\"age\": 92.0, \"gender\": 1, \"sm_li\": 0.0}, {\"age\": 93.0, \"gender\": 0, \"sm_li\": 0.0}, {\"age\": 94.0, \"gender\": 0, \"sm_li\": 0.0}, {\"age\": 94.0, \"gender\": 1, \"sm_li\": 0.0}, {\"age\": 97.0, \"gender\": 0, \"sm_li\": 0.0}]}}, {\"mode\": \"vega-lite\"});\n",
       "</script>"
      ],
      "text/plain": [
       "alt.Chart(...)"
      ]
     },
     "execution_count": 206,
     "metadata": {},
     "output_type": "execute_result"
    }
   ],
   "source": [
    "alt.Chart(ss.groupby([\"age\", \"gender\"], as_index=False)[\"sm_li\"].mean()).\\\n",
    "mark_square().\\\n",
    "encode(x=\"age\",\n",
    "      y=\"sm_li\",\n",
    "      color=\"gender:N\")"
   ]
  },
  {
   "cell_type": "markdown",
   "metadata": {},
   "source": [
    "***"
   ]
  },
  {
   "cell_type": "markdown",
   "metadata": {},
   "source": [
    "#### Question 4: Create a target vector (y) and feature set (X)"
   ]
  },
  {
   "cell_type": "code",
   "execution_count": 209,
   "metadata": {},
   "outputs": [
    {
     "name": "stdout",
     "output_type": "stream",
     "text": [
      "Shape of X (features): (1260, 6)\n",
      "Shape of y (target): (1260,)\n",
      "<class 'pandas.core.frame.DataFrame'>\n",
      "Index: 1260 entries, 0 to 1501\n",
      "Data columns (total 6 columns):\n",
      " #   Column     Non-Null Count  Dtype  \n",
      "---  ------     --------------  -----  \n",
      " 0   income     1260 non-null   float64\n",
      " 1   education  1260 non-null   float64\n",
      " 2   age        1260 non-null   float64\n",
      " 3   parent     1260 non-null   int64  \n",
      " 4   married    1260 non-null   int64  \n",
      " 5   gender     1260 non-null   int64  \n",
      "dtypes: float64(3), int64(3)\n",
      "memory usage: 68.9 KB\n",
      "Shape of X (features): None\n"
     ]
    }
   ],
   "source": [
    "# Define features and target\n",
    "X = ss.drop(columns=['sm_li'])  # Drop the target column to keep features\n",
    "y = ss['sm_li']     \n",
    "\n",
    "\n",
    "print(f\"Shape of X (features): {X.shape}\")\n",
    "print(f\"Shape of y (target): {y.shape}\")\n",
    "\n",
    "print(f\"Shape of X (features): {X.info()}\")\n"
   ]
  },
  {
   "cell_type": "code",
   "execution_count": 210,
   "metadata": {},
   "outputs": [
    {
     "name": "stdout",
     "output_type": "stream",
     "text": [
      "Index(['income', 'education', 'age', 'parent', 'married', 'gender', 'sm_li'], dtype='object')\n"
     ]
    }
   ],
   "source": [
    "print(ss.columns)"
   ]
  },
  {
   "cell_type": "markdown",
   "metadata": {},
   "source": [
    "***"
   ]
  },
  {
   "cell_type": "markdown",
   "metadata": {},
   "source": [
    "#### Question 5: Split the data into training and test sets. Hold out 20% of the data for testing"
   ]
  },
  {
   "cell_type": "markdown",
   "metadata": {},
   "source": [
    "+ Explain what each new object contains and how it is used in machine learning"
   ]
  },
  {
   "cell_type": "code",
   "execution_count": 214,
   "metadata": {},
   "outputs": [
    {
     "name": "stdout",
     "output_type": "stream",
     "text": [
      "X_train shape: (1008, 6)\n",
      "X_test shape: (252, 6)\n",
      "y_train shape: (1008,)\n",
      "y_test shape: (252,)\n"
     ]
    }
   ],
   "source": [
    "# Split data into training and test set\n",
    "X_train, X_test, y_train, y_test = train_test_split(X.values,\n",
    "                                                    y,\n",
    "                                                    stratify=y,       # same number of target in training & test set\n",
    "                                                    test_size=0.2,    # hold out 20% of data for testing\n",
    "                                                    random_state=987) # set for reproducibility\n",
    "\n",
    "# Display the shapes of the resulting datasets\n",
    "print(f\"X_train shape: {X_train.shape}\")\n",
    "print(f\"X_test shape: {X_test.shape}\")\n",
    "print(f\"y_train shape: {y_train.shape}\")\n",
    "print(f\"y_test shape: {y_test.shape}\")"
   ]
  },
  {
   "cell_type": "markdown",
   "metadata": {},
   "source": [
    "+ X_train contains 80% of the data and contains the features used to predict the target when training the model. \n",
    "+ X_test contains 20% of the data and contains the features used to test the model on unseen data to evaluate performance. \n",
    "+ y_train contains 80% of the the data and contains the target that we will predict using the features when training the model. \n",
    "+ y_test contains 20% of the data and contains the target we will predict when testing the model on unseen data to evaluate performance.\n"
   ]
  },
  {
   "cell_type": "markdown",
   "metadata": {},
   "source": [
    "***"
   ]
  },
  {
   "cell_type": "markdown",
   "metadata": {},
   "source": [
    "### Train Logistic Regression Model"
   ]
  },
  {
   "cell_type": "markdown",
   "metadata": {},
   "source": [
    "#### Question 6: Instantiate a logistic regression model and set class_weight to balanced. Fit the model with the training data."
   ]
  },
  {
   "cell_type": "code",
   "execution_count": 219,
   "metadata": {},
   "outputs": [
    {
     "name": "stdout",
     "output_type": "stream",
     "text": [
      "Model saved successfully!\n"
     ]
    }
   ],
   "source": [
    "from sklearn.linear_model import LogisticRegression\n",
    "\n",
    "# Initialize the logistic regression model with class_weight set to 'balanced'\n",
    "ss_model = LogisticRegression(class_weight='balanced')\n",
    "\n",
    "# Fit the model with the training data\n",
    "ss_model.fit(X_train, y_train)\n",
    "\n",
    "with open(\"ss_model.pkl\", \"wb\") as file:\n",
    "    pickle.dump(ss_model, file)\n",
    "\n",
    "print(\"Model saved successfully!\")\n",
    "\n",
    "\n"
   ]
  },
  {
   "cell_type": "markdown",
   "metadata": {},
   "source": [
    "***"
   ]
  },
  {
   "cell_type": "markdown",
   "metadata": {},
   "source": [
    "### Evaluate Model "
   ]
  },
  {
   "cell_type": "markdown",
   "metadata": {},
   "source": [
    "#### Question 7: Evaluate the model using the testing data. What is the model accuracy for the model?"
   ]
  },
  {
   "cell_type": "markdown",
   "metadata": {},
   "source": [
    "+ Use the model to make predictions and then generate a confusion matrix from the model. \n",
    "+ Interpret the confusion matrix and explain what each number means."
   ]
  },
  {
   "cell_type": "code",
   "execution_count": 224,
   "metadata": {},
   "outputs": [
    {
     "name": "stdout",
     "output_type": "stream",
     "text": [
      "Model Accuracy: 0.69\n",
      "Confusion Matrix:\n",
      "[[111  57]\n",
      " [ 21  63]]\n"
     ]
    }
   ],
   "source": [
    "# Predict on the test data\n",
    "y_pred = ss_model.predict(X_test)\n",
    "\n",
    "accuracy = accuracy_score(y_test, y_pred) #from sklearn.metrics import accuracy_score, confusion_matrix\n",
    "print(f\"Model Accuracy: {accuracy:.2f}\") # Calculate and print accuracy\n",
    "\n",
    "# Generate and print the confusion matrix\n",
    "conf_matrix = confusion_matrix(y_test, y_pred)\n",
    "print(f\"Confusion Matrix:\\n{conf_matrix}\")\n",
    "\n"
   ]
  },
  {
   "cell_type": "markdown",
   "metadata": {},
   "source": [
    "+ Model Accuracy: 1.00\n",
    "+ TN (111): 111 negative samples were correctly classified as negative.\n",
    "+ FP (57): 57 negative samples were incorrectly classified as positive.\n",
    "+ FN (21): 21 positive samples were incorrectly classified as negative.\n",
    "+ TP (63): 63 positive samples were correctly classified as positive."
   ]
  },
  {
   "cell_type": "markdown",
   "metadata": {},
   "source": [
    "***"
   ]
  },
  {
   "cell_type": "markdown",
   "metadata": {},
   "source": [
    "#### Question 8: \n",
    "#### Create the confusion matrix as a dataframe and add informative column names and index names that indicate what each quadrant represents."
   ]
  },
  {
   "cell_type": "code",
   "execution_count": 228,
   "metadata": {},
   "outputs": [
    {
     "data": {
      "text/html": [
       "<style type=\"text/css\">\n",
       "#T_d047e_row0_col0, #T_d047e_row1_col1 {\n",
       "  background-color: #fcffa4;\n",
       "  color: #000000;\n",
       "}\n",
       "#T_d047e_row0_col1, #T_d047e_row1_col0 {\n",
       "  background-color: #000004;\n",
       "  color: #f1f1f1;\n",
       "}\n",
       "</style>\n",
       "<table id=\"T_d047e\">\n",
       "  <thead>\n",
       "    <tr>\n",
       "      <th class=\"blank level0\" >&nbsp;</th>\n",
       "      <th id=\"T_d047e_level0_col0\" class=\"col_heading level0 col0\" >Predicted negative</th>\n",
       "      <th id=\"T_d047e_level0_col1\" class=\"col_heading level0 col1\" >Predicted positive</th>\n",
       "    </tr>\n",
       "  </thead>\n",
       "  <tbody>\n",
       "    <tr>\n",
       "      <th id=\"T_d047e_level0_row0\" class=\"row_heading level0 row0\" >Actual negative</th>\n",
       "      <td id=\"T_d047e_row0_col0\" class=\"data row0 col0\" >111</td>\n",
       "      <td id=\"T_d047e_row0_col1\" class=\"data row0 col1\" >57</td>\n",
       "    </tr>\n",
       "    <tr>\n",
       "      <th id=\"T_d047e_level0_row1\" class=\"row_heading level0 row1\" >Actual positive</th>\n",
       "      <td id=\"T_d047e_row1_col0\" class=\"data row1 col0\" >21</td>\n",
       "      <td id=\"T_d047e_row1_col1\" class=\"data row1 col1\" >63</td>\n",
       "    </tr>\n",
       "  </tbody>\n",
       "</table>\n"
      ],
      "text/plain": [
       "<pandas.io.formats.style.Styler at 0x1bd2b5cd6a0>"
      ]
     },
     "execution_count": 228,
     "metadata": {},
     "output_type": "execute_result"
    }
   ],
   "source": [
    "pd.DataFrame(confusion_matrix(y_test, y_pred),\n",
    "            columns=[\"Predicted negative\", \"Predicted positive\"],\n",
    "            index=[\"Actual negative\",\"Actual positive\"]).style.background_gradient(cmap=\"inferno\")"
   ]
  },
  {
   "cell_type": "markdown",
   "metadata": {},
   "source": [
    "***"
   ]
  },
  {
   "cell_type": "markdown",
   "metadata": {},
   "source": [
    "#### Question 9: "
   ]
  },
  {
   "cell_type": "markdown",
   "metadata": {},
   "source": [
    "#### Aside from accuracy, there are three other metrics used to evaluate model performance: precision, recall, and F1 score. \n",
    "+ Use the results in the confusion matrix to calculate each of these metrics by hand.\n",
    "+ Discuss each metric and give an actual example of when it might be the preferred metric of evaluation.\n",
    "+ After calculating the metrics by hand, create a classification_report using sklearn and check to ensure your metrics match those of the classification_report."
   ]
  },
  {
   "cell_type": "code",
   "execution_count": 232,
   "metadata": {},
   "outputs": [],
   "source": [
    "## Accuracy: TP+TN/(TP+TN+FP+FN)\n",
    "# (63+111)/(63+111+57+21) = 174/252 = 0.69\n",
    "\n",
    "## Recall: TP/(TP+FN)\n",
    "# 63/(63+21) =0.75\n",
    "\n",
    "## Precision: TP/(TP+FP)\n",
    "# 63/(63+57) = 63/120 = 0.53\n",
    "\n",
    "## F1 score: 2 * (Precision x Recall)/(precision + Recall) \n",
    "# 2 * [(0.53 x 0.75)/(0.53+0.75)] =2* [0.40/1.28] = 2 *.31 =.62"
   ]
  },
  {
   "cell_type": "code",
   "execution_count": 233,
   "metadata": {},
   "outputs": [
    {
     "name": "stdout",
     "output_type": "stream",
     "text": [
      "              precision    recall  f1-score   support\n",
      "\n",
      "           0       0.84      0.66      0.74       168\n",
      "           1       0.53      0.75      0.62        84\n",
      "\n",
      "    accuracy                           0.69       252\n",
      "   macro avg       0.68      0.71      0.68       252\n",
      "weighted avg       0.74      0.69      0.70       252\n",
      "\n"
     ]
    }
   ],
   "source": [
    "# Get other metrics with classification_report\n",
    "print(classification_report(y_test, y_pred))"
   ]
  },
  {
   "cell_type": "markdown",
   "metadata": {},
   "source": [
    "+ **Recall Example:**\n",
    "  > Recall measures the proportion of actual positives that are correctly identified. High recall minimizes false negatives. Low Recall is a problem in disease detection (e.g., cancer diagnosis). The general rule for Recall is ≥ 0.7 (70%), especially in critical applications.\n",
    "  \n",
    "+ **Precision Example:**\n",
    "  >Of all the predicted positives, only 52.5% were truly positive. A low precision suggests many false positives. acceptable low precision might be acceptable in early stages of disease screening where recall is more important. Another example: In spam email detection, a low precision means many legitimate emails are falsely flagged as spam, frustrating users.\n",
    "\n",
    "+ **F1 score Example:**\n",
    "  >Below 0.6 (60%) is typically considered low. A low F1 Score indicates the model fails to balance precision and recall effectively. In fraud detection, where both false positives (inconveniencing customers) and false negatives (missing fraud) are costly, the F1 score is a useful measure.\n",
    "  "
   ]
  },
  {
   "cell_type": "markdown",
   "metadata": {},
   "source": [
    "##### The model has a moderate recall (75%) but low precision (52.5%), indicating it tends to overpredict the positive class, resulting in many false positives."
   ]
  },
  {
   "cell_type": "markdown",
   "metadata": {},
   "source": [
    "***"
   ]
  },
  {
   "cell_type": "markdown",
   "metadata": {},
   "source": [
    "### Make Predictions "
   ]
  },
  {
   "cell_type": "markdown",
   "metadata": {},
   "source": [
    "#### Question 10: Use the model to make predictions"
   ]
  },
  {
   "cell_type": "markdown",
   "metadata": {},
   "source": [
    "+ For instance, what is the probability that a high income (e.g. income=8), with a high level of education (e.g. 7), non-parent who is married female and 42 years old uses LinkedIn? \n",
    "+ How does the probability change if another person is 82 years old, but otherwise the same?"
   ]
  },
  {
   "cell_type": "code",
   "execution_count": 240,
   "metadata": {},
   "outputs": [
    {
     "name": "stdout",
     "output_type": "stream",
     "text": [
      "Index(['income', 'education', 'age', 'parent', 'married', 'gender', 'sm_li'], dtype='object')\n"
     ]
    }
   ],
   "source": [
    "print(ss.columns)"
   ]
  },
  {
   "cell_type": "code",
   "execution_count": 241,
   "metadata": {},
   "outputs": [
    {
     "name": "stdout",
     "output_type": "stream",
     "text": [
      " Person            Features  Predicted Class  Probability of Class 1 (LinkedIn_usage)\n",
      "Person1 [8, 7, 42, 0, 1, 1]                1                                 0.731613\n",
      "Person2 [8, 7, 82, 0, 1, 1]                0                                 0.471008\n"
     ]
    }
   ],
   "source": [
    "#Example: Predict on new data\n",
    "\n",
    "# Define new data for predictions\n",
    "person1 = [8, 7, 42, 0, 1, 1]\n",
    "person2 = [8, 7, 82, 0, 1, 1]\n",
    "\n",
    "# Predict classes and probabilities\n",
    "predicted_class1 = ss_model.predict([person1])[0]\n",
    "predicted_class2 = ss_model.predict([person2])[0]\n",
    "probs1 = ss_model.predict_proba([person1])[0]\n",
    "probs2 = ss_model.predict_proba([person2])[0]\n",
    "\n",
    "# Create the DataFrame\n",
    "results = pd.DataFrame({\n",
    "    'Person': ['Person1', 'Person2'],\n",
    "    'Features': [person1, person2],\n",
    "    'Predicted Class': [predicted_class1, predicted_class2],\n",
    "    'Probability of Class 1 (LinkedIn_usage)': [probs1[1], probs2[1]]\n",
    "})\n",
    "\n",
    "# Format display\n",
    "pd.set_option('display.max_colwidth', None)  # Prevent truncation of long columns\n",
    "print(results.to_string(index=False))\n",
    "\n"
   ]
  },
  {
   "cell_type": "markdown",
   "metadata": {},
   "source": [
    "***"
   ]
  },
  {
   "cell_type": "markdown",
   "metadata": {},
   "source": [
    "### Information for Part 2"
   ]
  },
  {
   "cell_type": "markdown",
   "metadata": {},
   "source": [
    "+ Use this code for the app\n",
    "+ Save as linkedIn_app.py\n",
    "+ on commandline --streamlit run linkedin_app.py\n",
    "+ load the trained model\n",
    "+\n",
    ">Train the model\n",
    "ss_model.fit(X_train, y_train)\n",
    "\n",
    ">Make predictions\n",
    "y_pred = ss_model.predict(X_test)\n",
    "\n",
    ">Check accuracy\n",
    "from sklearn.metrics import accuracy_score\n",
    "#print(f\"Accuracy: {accuracy_score(y_test, y_pred)}\")\n",
    "\n",
    ">(Optional) Compare results\n",
    "#print(\"Predicted:\", y_pred)\n",
    "#print(\"Actual:\", y_test)\n"
   ]
  },
  {
   "cell_type": "code",
   "execution_count": 245,
   "metadata": {},
   "outputs": [
    {
     "ename": "NameError",
     "evalue": "name 'st' is not defined",
     "output_type": "error",
     "traceback": [
      "\u001b[1;31m---------------------------------------------------------------------------\u001b[0m",
      "\u001b[1;31mNameError\u001b[0m                                 Traceback (most recent call last)",
      "Cell \u001b[1;32mIn[245], line 47\u001b[0m\n\u001b[0;32m     44\u001b[0m     st\u001b[38;5;241m.\u001b[39mpyplot(plt)\n\u001b[0;32m     46\u001b[0m \u001b[38;5;66;03m# Streamlit App\u001b[39;00m\n\u001b[1;32m---> 47\u001b[0m st\u001b[38;5;241m.\u001b[39mtitle(\u001b[38;5;124m\"\u001b[39m\u001b[38;5;124mLinkedIn User Prediction App\u001b[39m\u001b[38;5;124m\"\u001b[39m)\n\u001b[0;32m     49\u001b[0m \u001b[38;5;66;03m# User inputs\u001b[39;00m\n\u001b[0;32m     50\u001b[0m income \u001b[38;5;241m=\u001b[39m st\u001b[38;5;241m.\u001b[39mselectbox(\u001b[38;5;124m\"\u001b[39m\u001b[38;5;124mIncome Range\u001b[39m\u001b[38;5;124m\"\u001b[39m, \u001b[38;5;28mrange\u001b[39m(\u001b[38;5;241m1\u001b[39m, \u001b[38;5;241m10\u001b[39m), format_func\u001b[38;5;241m=\u001b[39m\u001b[38;5;28;01mlambda\u001b[39;00m x: income_labels[x \u001b[38;5;241m-\u001b[39m \u001b[38;5;241m1\u001b[39m])\n",
      "\u001b[1;31mNameError\u001b[0m: name 'st' is not defined"
     ]
    }
   ],
   "source": [
    "#import streamlit as st\n",
    "import numpy as np\n",
    "import pickle\n",
    "import matplotlib.pyplot as plt\n",
    "\n",
    "# Load the trained model\n",
    "km_model = pickle.load(open(\"ss_model.pkl\", \"rb\"))\n",
    "\n",
    "# Define feature labels\n",
    "income_labels = [\n",
    "    \"Less than $10,000\", \"$10,000-$19,999\", \"$20,000-$29,999\",\n",
    "    \"$30,000-$39,999\", \"$40,000-$49,999\", \"$50,000-$74,999\",\n",
    "    \"$75,000-$99,999\", \"$100,000-$149,999\", \"$150,000 or more\"\n",
    "]\n",
    "education_labels = [\n",
    "    \"Less than high school\", \"High school incomplete\", \"High school graduate\",\n",
    "    \"Some college, no degree\", \"Associate degree\", \"Bachelor’s degree\",\n",
    "    \"Master’s degree\", \"Doctorate or professional degree\"\n",
    "]\n",
    "\n",
    "# Helper function to preprocess inputs\n",
    "def preprocess_input(income, education, age, parent, married, gender):\n",
    "    income = income if 1 <= income <= 9 else np.nan\n",
    "    education = education if 1 <= education <= 8 else np.nan\n",
    "    age_bin = (\n",
    "        1 if age <= 18 else\n",
    "        2 if age <= 35 else\n",
    "        3 if age <= 55 else\n",
    "        4 if age <= 75 else\n",
    "        5 if age <= 98 else np.nan\n",
    "    )\n",
    "    return [\n",
    "        income, education, age_bin,\n",
    "        1 if parent == \"Yes\" else 0,\n",
    "        1 if married == \"Yes\" else 0,\n",
    "        1 if gender == \"Female\" else 0\n",
    "    ]\n",
    "\n",
    "# Plotting function for prediction probabilities\n",
    "def plot_probabilities(probabilities):\n",
    "    plt.bar(['Not a LinkedIn User', 'LinkedIn User'], probabilities, color=['red', 'green'])\n",
    "    plt.title(\"Prediction Confidence\")\n",
    "    plt.ylabel(\"Probability\")\n",
    "    st.pyplot(plt)\n",
    "\n",
    "# Streamlit App\n",
    "st.title(\"LinkedIn User Prediction App\")\n",
    "\n",
    "# User inputs\n",
    "income = st.selectbox(\"Income Range\", range(1, 10), format_func=lambda x: income_labels[x - 1])\n",
    "education = st.selectbox(\"Education Level\", range(1, 9), format_func=lambda x: education_labels[x - 1])\n",
    "age = st.number_input(\"Age (years)\", min_value=0, max_value=98, step=1)\n",
    "parent = st.radio(\"Are you a parent?\", [\"Yes\", \"No\"])\n",
    "married = st.radio(\"Are you married?\", [\"Yes\", \"No\"])\n",
    "gender = st.radio(\"Gender\", [\"Female\", \"Male\"])\n",
    "\n",
    "# Predict button\n",
    "if st.button(\"Predict\"):\n",
    "    features = preprocess_input(income, education, age, parent, married, gender)\n",
    "\n",
    "    if np.nan in features:\n",
    "        st.error(\"Some inputs are invalid. Please check and try again.\")\n",
    "    else:\n",
    "        prediction = model.predict([features])[0]\n",
    "        probabilities = model.predict_proba([features])[0]\n",
    "\n",
    "        st.subheader(\"Prediction Results\")\n",
    "        st.write(f\"**LinkedIn User?** {'Yes' if prediction == 1 else 'No'}\")\n",
    "        st.write(f\"**Probability of being a LinkedIn user:** {probabilities[1]:.2%}\")\n",
    "\n",
    "        st.subheader(\"Prediction Confidence\")\n",
    "        plot_probabilities(probabilities)\n"
   ]
  },
  {
   "cell_type": "markdown",
   "metadata": {},
   "source": [
    "#### Deploy"
   ]
  },
  {
   "cell_type": "markdown",
   "metadata": {},
   "source": [
    "***"
   ]
  },
  {
   "cell_type": "markdown",
   "metadata": {},
   "source": [
    "[my_app] https://github.com/1606git/Test-Project/blob/main/draft4test.py"
   ]
  },
  {
   "cell_type": "code",
   "execution_count": null,
   "metadata": {},
   "outputs": [],
   "source": []
  }
 ],
 "metadata": {
  "kernelspec": {
   "display_name": "Python 3 (ipykernel)",
   "language": "python",
   "name": "python3"
  },
  "language_info": {
   "codemirror_mode": {
    "name": "ipython",
    "version": 3
   },
   "file_extension": ".py",
   "mimetype": "text/x-python",
   "name": "python",
   "nbconvert_exporter": "python",
   "pygments_lexer": "ipython3",
   "version": "3.12.4"
  }
 },
 "nbformat": 4,
 "nbformat_minor": 4
}
